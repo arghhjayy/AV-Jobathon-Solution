{
  "nbformat": 4,
  "nbformat_minor": 0,
  "metadata": {
    "colab": {
      "name": "AV Boi",
      "provenance": [],
      "collapsed_sections": []
    },
    "kernelspec": {
      "name": "python3",
      "display_name": "Python 3"
    },
    "accelerator": "GPU"
  },
  "cells": [
    {
      "cell_type": "code",
      "metadata": {
        "colab": {
          "base_uri": "https://localhost:8080/"
        },
        "id": "uC1VRZ_S4foP",
        "outputId": "54fe247e-f818-4caf-f890-419e93065066"
      },
      "source": [
        "!pip install catboost"
      ],
      "execution_count": 1,
      "outputs": [
        {
          "output_type": "stream",
          "text": [
            "Collecting catboost\n",
            "\u001b[?25l  Downloading https://files.pythonhosted.org/packages/96/3b/bb419654adcf7efff42ed8a3f84e50c8f236424b7ed1cc8ccd290852e003/catboost-0.24.4-cp37-none-manylinux1_x86_64.whl (65.7MB)\n",
            "\u001b[K     |████████████████████████████████| 65.7MB 47kB/s \n",
            "\u001b[?25hRequirement already satisfied: plotly in /usr/local/lib/python3.7/dist-packages (from catboost) (4.4.1)\n",
            "Requirement already satisfied: matplotlib in /usr/local/lib/python3.7/dist-packages (from catboost) (3.2.2)\n",
            "Requirement already satisfied: scipy in /usr/local/lib/python3.7/dist-packages (from catboost) (1.4.1)\n",
            "Requirement already satisfied: pandas>=0.24.0 in /usr/local/lib/python3.7/dist-packages (from catboost) (1.1.5)\n",
            "Requirement already satisfied: six in /usr/local/lib/python3.7/dist-packages (from catboost) (1.15.0)\n",
            "Requirement already satisfied: graphviz in /usr/local/lib/python3.7/dist-packages (from catboost) (0.10.1)\n",
            "Requirement already satisfied: numpy>=1.16.0 in /usr/local/lib/python3.7/dist-packages (from catboost) (1.19.5)\n",
            "Requirement already satisfied: retrying>=1.3.3 in /usr/local/lib/python3.7/dist-packages (from plotly->catboost) (1.3.3)\n",
            "Requirement already satisfied: kiwisolver>=1.0.1 in /usr/local/lib/python3.7/dist-packages (from matplotlib->catboost) (1.3.1)\n",
            "Requirement already satisfied: cycler>=0.10 in /usr/local/lib/python3.7/dist-packages (from matplotlib->catboost) (0.10.0)\n",
            "Requirement already satisfied: pyparsing!=2.0.4,!=2.1.2,!=2.1.6,>=2.0.1 in /usr/local/lib/python3.7/dist-packages (from matplotlib->catboost) (2.4.7)\n",
            "Requirement already satisfied: python-dateutil>=2.1 in /usr/local/lib/python3.7/dist-packages (from matplotlib->catboost) (2.8.1)\n",
            "Requirement already satisfied: pytz>=2017.2 in /usr/local/lib/python3.7/dist-packages (from pandas>=0.24.0->catboost) (2018.9)\n",
            "Installing collected packages: catboost\n",
            "Successfully installed catboost-0.24.4\n"
          ],
          "name": "stdout"
        }
      ]
    },
    {
      "cell_type": "code",
      "metadata": {
        "colab": {
          "resources": {
            "http://localhost:8080/nbextensions/google.colab/files.js": {
              "data": "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",
              "ok": true,
              "headers": [
                [
                  "content-type",
                  "application/javascript"
                ]
              ],
              "status": 200,
              "status_text": ""
            }
          },
          "base_uri": "https://localhost:8080/",
          "height": 160
        },
        "id": "kfsFgHdr5E-G",
        "outputId": "fe77adde-d9fe-4d5b-dde8-1e7a0e2f38e0"
      },
      "source": [
        "from google.colab import files\n",
        "uploaded = files.upload()"
      ],
      "execution_count": 2,
      "outputs": [
        {
          "output_type": "display_data",
          "data": {
            "text/html": [
              "\n",
              "     <input type=\"file\" id=\"files-ecd073ce-8911-48bd-9ec9-8fba0860d204\" name=\"files[]\" multiple disabled\n",
              "        style=\"border:none\" />\n",
              "     <output id=\"result-ecd073ce-8911-48bd-9ec9-8fba0860d204\">\n",
              "      Upload widget is only available when the cell has been executed in the\n",
              "      current browser session. Please rerun this cell to enable.\n",
              "      </output>\n",
              "      <script src=\"/nbextensions/google.colab/files.js\"></script> "
            ],
            "text/plain": [
              "<IPython.core.display.HTML object>"
            ]
          },
          "metadata": {
            "tags": []
          }
        },
        {
          "output_type": "stream",
          "text": [
            "Saving sample_submission_QrCyCoT.csv to sample_submission_QrCyCoT.csv\n",
            "Saving test_YCcRUnU.csv to test_YCcRUnU.csv\n",
            "Saving train_Df64byy.csv to train_Df64byy.csv\n"
          ],
          "name": "stdout"
        }
      ]
    },
    {
      "cell_type": "code",
      "metadata": {
        "id": "5uVwB7gV5lki"
      },
      "source": [
        "import numpy as np\n",
        "import pandas as pd\n",
        "import matplotlib.pyplot as plt\n",
        "import seaborn as sns\n",
        "from catboost import CatBoostClassifier\n",
        "from sklearn.model_selection import train_test_split\n",
        "from sklearn.metrics import *\n",
        "from sklearn.preprocessing import MinMaxScaler"
      ],
      "execution_count": 22,
      "outputs": []
    },
    {
      "cell_type": "code",
      "metadata": {
        "id": "Mv3XWq8q5fEn"
      },
      "source": [
        "train_df = pd.read_csv('/content/train_Df64byy.csv')\n",
        "test_df = pd.read_csv('/content/test_YCcRUnU.csv')"
      ],
      "execution_count": 4,
      "outputs": []
    },
    {
      "cell_type": "code",
      "metadata": {
        "id": "2o3BolhXASzV"
      },
      "source": [
        "def make_df_ready(df):\n",
        "  df = df.set_index('ID')\n",
        "  df['Holding_Policy_Duration'] = df['Holding_Policy_Duration'].replace('14+', '15.0').astype(float)\n",
        "  df['Is_Spouse'] = df['Is_Spouse'].map({'No': 1, 'Yes': 0})\n",
        "  df['Accomodation_Type'] = df['Accomodation_Type'].map({'Owned': 1, 'Rented': 0})\n",
        "  df['Reco_Insurance_Type'] = df['Reco_Insurance_Type'].map({'Individual': 1, 'Joint': 0})\n",
        "  df['Holding_Policy_Type'] = df['Holding_Policy_Type'].astype(str)\n",
        "  df['Reco_Policy_Cat'] = df['Reco_Policy_Cat'].astype(str)\n",
        "  df['Region_Code'] = df['Region_Code'].astype(str)\n",
        "  df['Health Indicator'] = df['Health Indicator'].astype(str)\n",
        "  return df"
      ],
      "execution_count": 67,
      "outputs": []
    },
    {
      "cell_type": "code",
      "metadata": {
        "id": "2uc2Utn76ezG"
      },
      "source": [
        "train_df = train_df.set_index('ID')"
      ],
      "execution_count": 8,
      "outputs": []
    },
    {
      "cell_type": "code",
      "metadata": {
        "id": "xfB4aQ1d6jgT"
      },
      "source": [
        "train_df['Holding_Policy_Duration'] = train_df['Holding_Policy_Duration'].replace('14+', '15.0').astype(float)"
      ],
      "execution_count": 11,
      "outputs": []
    },
    {
      "cell_type": "code",
      "metadata": {
        "id": "pMhwrL9M6dYe"
      },
      "source": [
        "train_df['Is_Spouse'] = train_df['Is_Spouse'].map({'No': 1, 'Yes': 0})"
      ],
      "execution_count": 15,
      "outputs": []
    },
    {
      "cell_type": "code",
      "metadata": {
        "id": "2JV1rN387GES"
      },
      "source": [
        "train_df['Accomodation_Type'] = train_df['Accomodation_Type'].map({'Owned': 1, 'Rented': 0})\n",
        "train_df['Reco_Insurance_Type'] = train_df['Reco_Insurance_Type'].map({'Individual': 1, 'Joint': 0})"
      ],
      "execution_count": 17,
      "outputs": []
    },
    {
      "cell_type": "code",
      "metadata": {
        "id": "qmHkASOn7U2N"
      },
      "source": [
        "train_df['Holding_Policy_Type'] = train_df['Holding_Policy_Type'].astype(str)\n",
        "train_df['Reco_Policy_Cat'] = train_df['Reco_Policy_Cat'].astype(str)\n",
        "train_df['Region_Code'] = train_df['Region_Code'].astype(str)\n",
        "train_df['Health Indicator'] = train_df['Health Indicator'].astype(str)"
      ],
      "execution_count": 47,
      "outputs": []
    },
    {
      "cell_type": "code",
      "metadata": {
        "id": "3382jipp7pRQ"
      },
      "source": [
        "X = train_df.loc[:, [i for i in train_df.columns if i != 'Response']]\n",
        "y = train_df.loc[:, 'Response']\n",
        "X_train, X_test, y_train, y_test = train_test_split(X, y, test_size=0.2, random_state=21)"
      ],
      "execution_count": 59,
      "outputs": []
    },
    {
      "cell_type": "code",
      "metadata": {
        "id": "PEGsK33b8cl-"
      },
      "source": [
        "clf = CatBoostClassifier(iterations=200, task_type='GPU')"
      ],
      "execution_count": 61,
      "outputs": []
    },
    {
      "cell_type": "code",
      "metadata": {
        "colab": {
          "base_uri": "https://localhost:8080/"
        },
        "id": "6G9jHNmQ8WQt",
        "outputId": "453e36b3-06d8-4727-9d97-b8d0abd49afa"
      },
      "source": [
        "clf.fit(X=X_train, y=y_train, cat_features=['City_Code', 'Region_Code', 'Health Indicator', 'Holding_Policy_Type', 'Reco_Policy_Cat'])"
      ],
      "execution_count": 62,
      "outputs": [
        {
          "output_type": "stream",
          "text": [
            "Learning rate set to 0.116284\n",
            "0:\tlearn: 0.6379462\ttotal: 37ms\tremaining: 7.35s\n",
            "1:\tlearn: 0.6006049\ttotal: 69.1ms\tremaining: 6.84s\n",
            "2:\tlearn: 0.5699593\ttotal: 101ms\tremaining: 6.64s\n",
            "3:\tlearn: 0.5462714\ttotal: 135ms\tremaining: 6.62s\n",
            "4:\tlearn: 0.5277840\ttotal: 167ms\tremaining: 6.51s\n",
            "5:\tlearn: 0.5139361\ttotal: 199ms\tremaining: 6.43s\n",
            "6:\tlearn: 0.5034413\ttotal: 230ms\tremaining: 6.33s\n",
            "7:\tlearn: 0.4968997\ttotal: 265ms\tremaining: 6.37s\n",
            "8:\tlearn: 0.4906273\ttotal: 296ms\tremaining: 6.28s\n",
            "9:\tlearn: 0.4856473\ttotal: 324ms\tremaining: 6.16s\n",
            "10:\tlearn: 0.4820563\ttotal: 352ms\tremaining: 6.04s\n",
            "11:\tlearn: 0.4776281\ttotal: 379ms\tremaining: 5.93s\n",
            "12:\tlearn: 0.4750582\ttotal: 405ms\tremaining: 5.82s\n",
            "13:\tlearn: 0.4712415\ttotal: 431ms\tremaining: 5.72s\n",
            "14:\tlearn: 0.4689738\ttotal: 458ms\tremaining: 5.64s\n",
            "15:\tlearn: 0.4669851\ttotal: 490ms\tremaining: 5.63s\n",
            "16:\tlearn: 0.4655615\ttotal: 517ms\tremaining: 5.56s\n",
            "17:\tlearn: 0.4637181\ttotal: 540ms\tremaining: 5.46s\n",
            "18:\tlearn: 0.4625712\ttotal: 564ms\tremaining: 5.37s\n",
            "19:\tlearn: 0.4616432\ttotal: 600ms\tremaining: 5.4s\n",
            "20:\tlearn: 0.4610320\ttotal: 623ms\tremaining: 5.31s\n",
            "21:\tlearn: 0.4604970\ttotal: 645ms\tremaining: 5.22s\n",
            "22:\tlearn: 0.4594408\ttotal: 669ms\tremaining: 5.15s\n",
            "23:\tlearn: 0.4590070\ttotal: 695ms\tremaining: 5.1s\n",
            "24:\tlearn: 0.4584130\ttotal: 718ms\tremaining: 5.03s\n",
            "25:\tlearn: 0.4579740\ttotal: 740ms\tremaining: 4.95s\n",
            "26:\tlearn: 0.4576366\ttotal: 762ms\tremaining: 4.88s\n",
            "27:\tlearn: 0.4568768\ttotal: 784ms\tremaining: 4.82s\n",
            "28:\tlearn: 0.4565283\ttotal: 806ms\tremaining: 4.75s\n",
            "29:\tlearn: 0.4561908\ttotal: 828ms\tremaining: 4.69s\n",
            "30:\tlearn: 0.4557277\ttotal: 855ms\tremaining: 4.66s\n",
            "31:\tlearn: 0.4547462\ttotal: 891ms\tremaining: 4.68s\n",
            "32:\tlearn: 0.4545148\ttotal: 917ms\tremaining: 4.64s\n",
            "33:\tlearn: 0.4541923\ttotal: 939ms\tremaining: 4.58s\n",
            "34:\tlearn: 0.4537345\ttotal: 961ms\tremaining: 4.53s\n",
            "35:\tlearn: 0.4533912\ttotal: 982ms\tremaining: 4.47s\n",
            "36:\tlearn: 0.4526523\ttotal: 1s\tremaining: 4.42s\n",
            "37:\tlearn: 0.4524421\ttotal: 1.02s\tremaining: 4.37s\n",
            "38:\tlearn: 0.4522299\ttotal: 1.04s\tremaining: 4.32s\n",
            "39:\tlearn: 0.4519612\ttotal: 1.07s\tremaining: 4.27s\n",
            "40:\tlearn: 0.4518200\ttotal: 1.09s\tremaining: 4.24s\n",
            "41:\tlearn: 0.4516130\ttotal: 1.13s\tremaining: 4.27s\n",
            "42:\tlearn: 0.4510185\ttotal: 1.16s\tremaining: 4.22s\n",
            "43:\tlearn: 0.4508391\ttotal: 1.18s\tremaining: 4.17s\n",
            "44:\tlearn: 0.4506683\ttotal: 1.2s\tremaining: 4.13s\n",
            "45:\tlearn: 0.4504705\ttotal: 1.22s\tremaining: 4.08s\n",
            "46:\tlearn: 0.4502343\ttotal: 1.24s\tremaining: 4.04s\n",
            "47:\tlearn: 0.4500207\ttotal: 1.26s\tremaining: 3.99s\n",
            "48:\tlearn: 0.4498791\ttotal: 1.28s\tremaining: 3.95s\n",
            "49:\tlearn: 0.4496518\ttotal: 1.3s\tremaining: 3.9s\n",
            "50:\tlearn: 0.4495624\ttotal: 1.32s\tremaining: 3.87s\n",
            "51:\tlearn: 0.4494664\ttotal: 1.35s\tremaining: 3.84s\n",
            "52:\tlearn: 0.4493603\ttotal: 1.37s\tremaining: 3.8s\n",
            "53:\tlearn: 0.4490636\ttotal: 1.39s\tremaining: 3.76s\n",
            "54:\tlearn: 0.4489558\ttotal: 1.41s\tremaining: 3.72s\n",
            "55:\tlearn: 0.4488291\ttotal: 1.43s\tremaining: 3.68s\n",
            "56:\tlearn: 0.4486969\ttotal: 1.45s\tremaining: 3.64s\n",
            "57:\tlearn: 0.4484988\ttotal: 1.48s\tremaining: 3.62s\n",
            "58:\tlearn: 0.4484006\ttotal: 1.5s\tremaining: 3.58s\n",
            "59:\tlearn: 0.4482802\ttotal: 1.52s\tremaining: 3.55s\n",
            "60:\tlearn: 0.4480069\ttotal: 1.54s\tremaining: 3.52s\n",
            "61:\tlearn: 0.4476526\ttotal: 1.57s\tremaining: 3.49s\n",
            "62:\tlearn: 0.4473789\ttotal: 1.6s\tremaining: 3.48s\n",
            "63:\tlearn: 0.4471579\ttotal: 1.62s\tremaining: 3.44s\n",
            "64:\tlearn: 0.4470432\ttotal: 1.64s\tremaining: 3.41s\n",
            "65:\tlearn: 0.4469907\ttotal: 1.66s\tremaining: 3.38s\n",
            "66:\tlearn: 0.4469135\ttotal: 1.69s\tremaining: 3.34s\n",
            "67:\tlearn: 0.4467145\ttotal: 1.71s\tremaining: 3.31s\n",
            "68:\tlearn: 0.4465503\ttotal: 1.73s\tremaining: 3.28s\n",
            "69:\tlearn: 0.4464482\ttotal: 1.75s\tremaining: 3.25s\n",
            "70:\tlearn: 0.4463616\ttotal: 1.77s\tremaining: 3.23s\n",
            "71:\tlearn: 0.4462355\ttotal: 1.8s\tremaining: 3.19s\n",
            "72:\tlearn: 0.4461952\ttotal: 1.82s\tremaining: 3.16s\n",
            "73:\tlearn: 0.4460969\ttotal: 1.84s\tremaining: 3.13s\n",
            "74:\tlearn: 0.4460307\ttotal: 1.86s\tremaining: 3.1s\n",
            "75:\tlearn: 0.4459316\ttotal: 1.88s\tremaining: 3.07s\n",
            "76:\tlearn: 0.4458377\ttotal: 1.9s\tremaining: 3.04s\n",
            "77:\tlearn: 0.4457734\ttotal: 1.92s\tremaining: 3.01s\n",
            "78:\tlearn: 0.4457086\ttotal: 1.94s\tremaining: 2.98s\n",
            "79:\tlearn: 0.4456886\ttotal: 1.96s\tremaining: 2.95s\n",
            "80:\tlearn: 0.4455989\ttotal: 1.99s\tremaining: 2.92s\n",
            "81:\tlearn: 0.4454818\ttotal: 2.01s\tremaining: 2.89s\n",
            "82:\tlearn: 0.4453411\ttotal: 2.03s\tremaining: 2.86s\n",
            "83:\tlearn: 0.4450398\ttotal: 2.05s\tremaining: 2.83s\n",
            "84:\tlearn: 0.4449890\ttotal: 2.08s\tremaining: 2.81s\n",
            "85:\tlearn: 0.4449504\ttotal: 2.1s\tremaining: 2.79s\n",
            "86:\tlearn: 0.4448428\ttotal: 2.12s\tremaining: 2.76s\n",
            "87:\tlearn: 0.4447822\ttotal: 2.14s\tremaining: 2.73s\n",
            "88:\tlearn: 0.4446928\ttotal: 2.16s\tremaining: 2.7s\n",
            "89:\tlearn: 0.4445630\ttotal: 2.19s\tremaining: 2.67s\n",
            "90:\tlearn: 0.4444436\ttotal: 2.21s\tremaining: 2.65s\n",
            "91:\tlearn: 0.4443283\ttotal: 2.23s\tremaining: 2.62s\n",
            "92:\tlearn: 0.4442037\ttotal: 2.25s\tremaining: 2.59s\n",
            "93:\tlearn: 0.4440996\ttotal: 2.27s\tremaining: 2.56s\n",
            "94:\tlearn: 0.4439934\ttotal: 2.3s\tremaining: 2.54s\n",
            "95:\tlearn: 0.4439433\ttotal: 2.32s\tremaining: 2.51s\n",
            "96:\tlearn: 0.4438763\ttotal: 2.34s\tremaining: 2.48s\n",
            "97:\tlearn: 0.4437911\ttotal: 2.36s\tremaining: 2.46s\n",
            "98:\tlearn: 0.4437049\ttotal: 2.38s\tremaining: 2.43s\n",
            "99:\tlearn: 0.4436654\ttotal: 2.4s\tremaining: 2.4s\n",
            "100:\tlearn: 0.4435829\ttotal: 2.43s\tremaining: 2.38s\n",
            "101:\tlearn: 0.4434781\ttotal: 2.45s\tremaining: 2.36s\n",
            "102:\tlearn: 0.4431915\ttotal: 2.47s\tremaining: 2.33s\n",
            "103:\tlearn: 0.4431141\ttotal: 2.49s\tremaining: 2.3s\n",
            "104:\tlearn: 0.4430420\ttotal: 2.52s\tremaining: 2.28s\n",
            "105:\tlearn: 0.4429194\ttotal: 2.55s\tremaining: 2.26s\n",
            "106:\tlearn: 0.4428697\ttotal: 2.57s\tremaining: 2.23s\n",
            "107:\tlearn: 0.4428519\ttotal: 2.6s\tremaining: 2.22s\n",
            "108:\tlearn: 0.4427449\ttotal: 2.62s\tremaining: 2.19s\n",
            "109:\tlearn: 0.4426660\ttotal: 2.65s\tremaining: 2.17s\n",
            "110:\tlearn: 0.4425892\ttotal: 2.67s\tremaining: 2.14s\n",
            "111:\tlearn: 0.4425527\ttotal: 2.69s\tremaining: 2.11s\n",
            "112:\tlearn: 0.4425228\ttotal: 2.71s\tremaining: 2.09s\n",
            "113:\tlearn: 0.4424800\ttotal: 2.73s\tremaining: 2.06s\n",
            "114:\tlearn: 0.4424106\ttotal: 2.75s\tremaining: 2.04s\n",
            "115:\tlearn: 0.4423644\ttotal: 2.78s\tremaining: 2.01s\n",
            "116:\tlearn: 0.4423451\ttotal: 2.8s\tremaining: 1.99s\n",
            "117:\tlearn: 0.4420827\ttotal: 2.83s\tremaining: 1.96s\n",
            "118:\tlearn: 0.4419500\ttotal: 2.85s\tremaining: 1.94s\n",
            "119:\tlearn: 0.4418956\ttotal: 2.87s\tremaining: 1.92s\n",
            "120:\tlearn: 0.4418529\ttotal: 2.9s\tremaining: 1.89s\n",
            "121:\tlearn: 0.4418125\ttotal: 2.92s\tremaining: 1.86s\n",
            "122:\tlearn: 0.4417746\ttotal: 2.94s\tremaining: 1.84s\n",
            "123:\tlearn: 0.4417182\ttotal: 2.96s\tremaining: 1.81s\n",
            "124:\tlearn: 0.4416453\ttotal: 2.98s\tremaining: 1.79s\n",
            "125:\tlearn: 0.4415489\ttotal: 3s\tremaining: 1.76s\n",
            "126:\tlearn: 0.4415168\ttotal: 3.02s\tremaining: 1.74s\n",
            "127:\tlearn: 0.4414737\ttotal: 3.04s\tremaining: 1.71s\n",
            "128:\tlearn: 0.4414482\ttotal: 3.06s\tremaining: 1.69s\n",
            "129:\tlearn: 0.4413932\ttotal: 3.08s\tremaining: 1.66s\n",
            "130:\tlearn: 0.4413330\ttotal: 3.1s\tremaining: 1.64s\n",
            "131:\tlearn: 0.4411995\ttotal: 3.13s\tremaining: 1.61s\n",
            "132:\tlearn: 0.4410215\ttotal: 3.15s\tremaining: 1.59s\n",
            "133:\tlearn: 0.4410049\ttotal: 3.17s\tremaining: 1.56s\n",
            "134:\tlearn: 0.4409601\ttotal: 3.19s\tremaining: 1.54s\n",
            "135:\tlearn: 0.4409038\ttotal: 3.21s\tremaining: 1.51s\n",
            "136:\tlearn: 0.4407887\ttotal: 3.23s\tremaining: 1.49s\n",
            "137:\tlearn: 0.4407722\ttotal: 3.25s\tremaining: 1.46s\n",
            "138:\tlearn: 0.4406741\ttotal: 3.28s\tremaining: 1.44s\n",
            "139:\tlearn: 0.4406429\ttotal: 3.3s\tremaining: 1.41s\n",
            "140:\tlearn: 0.4405603\ttotal: 3.32s\tremaining: 1.39s\n",
            "141:\tlearn: 0.4405229\ttotal: 3.34s\tremaining: 1.37s\n",
            "142:\tlearn: 0.4404833\ttotal: 3.37s\tremaining: 1.34s\n",
            "143:\tlearn: 0.4404224\ttotal: 3.39s\tremaining: 1.32s\n",
            "144:\tlearn: 0.4403640\ttotal: 3.41s\tremaining: 1.29s\n",
            "145:\tlearn: 0.4402919\ttotal: 3.43s\tremaining: 1.27s\n",
            "146:\tlearn: 0.4402837\ttotal: 3.45s\tremaining: 1.24s\n",
            "147:\tlearn: 0.4402174\ttotal: 3.47s\tremaining: 1.22s\n",
            "148:\tlearn: 0.4401585\ttotal: 3.51s\tremaining: 1.2s\n",
            "149:\tlearn: 0.4400668\ttotal: 3.53s\tremaining: 1.18s\n",
            "150:\tlearn: 0.4399798\ttotal: 3.55s\tremaining: 1.15s\n",
            "151:\tlearn: 0.4399163\ttotal: 3.57s\tremaining: 1.13s\n",
            "152:\tlearn: 0.4398579\ttotal: 3.6s\tremaining: 1.1s\n",
            "153:\tlearn: 0.4397737\ttotal: 3.62s\tremaining: 1.08s\n",
            "154:\tlearn: 0.4395621\ttotal: 3.64s\tremaining: 1.06s\n",
            "155:\tlearn: 0.4395021\ttotal: 3.66s\tremaining: 1.03s\n",
            "156:\tlearn: 0.4394620\ttotal: 3.69s\tremaining: 1.01s\n",
            "157:\tlearn: 0.4394121\ttotal: 3.71s\tremaining: 988ms\n",
            "158:\tlearn: 0.4393166\ttotal: 3.74s\tremaining: 964ms\n",
            "159:\tlearn: 0.4391398\ttotal: 3.76s\tremaining: 940ms\n",
            "160:\tlearn: 0.4390873\ttotal: 3.78s\tremaining: 916ms\n",
            "161:\tlearn: 0.4390212\ttotal: 3.8s\tremaining: 892ms\n",
            "162:\tlearn: 0.4389813\ttotal: 3.82s\tremaining: 868ms\n",
            "163:\tlearn: 0.4389638\ttotal: 3.85s\tremaining: 845ms\n",
            "164:\tlearn: 0.4388689\ttotal: 3.87s\tremaining: 822ms\n",
            "165:\tlearn: 0.4388284\ttotal: 3.9s\tremaining: 798ms\n",
            "166:\tlearn: 0.4387619\ttotal: 3.92s\tremaining: 775ms\n",
            "167:\tlearn: 0.4387530\ttotal: 3.94s\tremaining: 751ms\n",
            "168:\tlearn: 0.4387446\ttotal: 3.96s\tremaining: 727ms\n",
            "169:\tlearn: 0.4386792\ttotal: 3.98s\tremaining: 703ms\n",
            "170:\tlearn: 0.4386368\ttotal: 4s\tremaining: 679ms\n",
            "171:\tlearn: 0.4385122\ttotal: 4.03s\tremaining: 656ms\n",
            "172:\tlearn: 0.4384964\ttotal: 4.05s\tremaining: 632ms\n",
            "173:\tlearn: 0.4383815\ttotal: 4.07s\tremaining: 608ms\n",
            "174:\tlearn: 0.4383265\ttotal: 4.1s\tremaining: 586ms\n",
            "175:\tlearn: 0.4382542\ttotal: 4.13s\tremaining: 564ms\n",
            "176:\tlearn: 0.4381904\ttotal: 4.15s\tremaining: 540ms\n",
            "177:\tlearn: 0.4381800\ttotal: 4.17s\tremaining: 516ms\n",
            "178:\tlearn: 0.4381576\ttotal: 4.2s\tremaining: 492ms\n",
            "179:\tlearn: 0.4380497\ttotal: 4.22s\tremaining: 469ms\n",
            "180:\tlearn: 0.4380171\ttotal: 4.24s\tremaining: 445ms\n",
            "181:\tlearn: 0.4379671\ttotal: 4.26s\tremaining: 422ms\n",
            "182:\tlearn: 0.4378731\ttotal: 4.29s\tremaining: 398ms\n",
            "183:\tlearn: 0.4378194\ttotal: 4.31s\tremaining: 375ms\n",
            "184:\tlearn: 0.4377705\ttotal: 4.34s\tremaining: 352ms\n",
            "185:\tlearn: 0.4377023\ttotal: 4.36s\tremaining: 328ms\n",
            "186:\tlearn: 0.4376149\ttotal: 4.38s\tremaining: 305ms\n",
            "187:\tlearn: 0.4375862\ttotal: 4.4s\tremaining: 281ms\n",
            "188:\tlearn: 0.4375673\ttotal: 4.42s\tremaining: 258ms\n",
            "189:\tlearn: 0.4375126\ttotal: 4.45s\tremaining: 234ms\n",
            "190:\tlearn: 0.4374811\ttotal: 4.47s\tremaining: 211ms\n",
            "191:\tlearn: 0.4373964\ttotal: 4.49s\tremaining: 187ms\n",
            "192:\tlearn: 0.4373277\ttotal: 4.51s\tremaining: 164ms\n",
            "193:\tlearn: 0.4372768\ttotal: 4.54s\tremaining: 141ms\n",
            "194:\tlearn: 0.4372361\ttotal: 4.57s\tremaining: 117ms\n",
            "195:\tlearn: 0.4372177\ttotal: 4.6s\tremaining: 93.9ms\n",
            "196:\tlearn: 0.4371801\ttotal: 4.62s\tremaining: 70.4ms\n",
            "197:\tlearn: 0.4371278\ttotal: 4.64s\tremaining: 46.9ms\n",
            "198:\tlearn: 0.4370447\ttotal: 4.66s\tremaining: 23.4ms\n",
            "199:\tlearn: 0.4369745\ttotal: 4.69s\tremaining: 0us\n"
          ],
          "name": "stdout"
        },
        {
          "output_type": "execute_result",
          "data": {
            "text/plain": [
              "<catboost.core.CatBoostClassifier at 0x7f66fa4f4710>"
            ]
          },
          "metadata": {
            "tags": []
          },
          "execution_count": 62
        }
      ]
    },
    {
      "cell_type": "code",
      "metadata": {
        "id": "y6gSS-xG8zc5"
      },
      "source": [
        "preds_test = clf.predict(X_test)"
      ],
      "execution_count": 63,
      "outputs": []
    },
    {
      "cell_type": "code",
      "metadata": {
        "colab": {
          "base_uri": "https://localhost:8080/"
        },
        "id": "movvpGii_JRt",
        "outputId": "d784d950-f54f-4326-9773-79eabe8c5d4f"
      },
      "source": [
        "print(classification_report(y_test.values, preds_test))"
      ],
      "execution_count": 64,
      "outputs": [
        {
          "output_type": "stream",
          "text": [
            "              precision    recall  f1-score   support\n",
            "\n",
            "           0       0.80      0.93      0.86      7668\n",
            "           1       0.57      0.30      0.39      2509\n",
            "\n",
            "    accuracy                           0.77     10177\n",
            "   macro avg       0.68      0.61      0.63     10177\n",
            "weighted avg       0.74      0.77      0.74     10177\n",
            "\n"
          ],
          "name": "stdout"
        }
      ]
    },
    {
      "cell_type": "code",
      "metadata": {
        "colab": {
          "base_uri": "https://localhost:8080/"
        },
        "id": "4-rBbNgP_RLE",
        "outputId": "f9b0061a-4814-4b5b-9cba-64ee09b7348e"
      },
      "source": [
        "roc_auc_score(y_test.values, preds_test)"
      ],
      "execution_count": 65,
      "outputs": [
        {
          "output_type": "execute_result",
          "data": {
            "text/plain": [
              "0.6122944878874237"
            ]
          },
          "metadata": {
            "tags": []
          },
          "execution_count": 65
        }
      ]
    },
    {
      "cell_type": "code",
      "metadata": {
        "id": "g3Eobf_3BPnT"
      },
      "source": [
        "test_to_predict = make_df_ready(test_df)"
      ],
      "execution_count": 71,
      "outputs": []
    },
    {
      "cell_type": "code",
      "metadata": {
        "id": "hfS5Rs-4Bu0h"
      },
      "source": [
        "submission_preds = clf.predict(test_to_predict)"
      ],
      "execution_count": 79,
      "outputs": []
    },
    {
      "cell_type": "code",
      "metadata": {
        "id": "W4c3vez1B9E4"
      },
      "source": [
        "sample_df = pd.read_csv('/content/sample_submission_QrCyCoT.csv')"
      ],
      "execution_count": 76,
      "outputs": []
    },
    {
      "cell_type": "code",
      "metadata": {
        "id": "r4lX9eHsB-aT"
      },
      "source": [
        "sample_df['Response'] = submission_preds"
      ],
      "execution_count": 80,
      "outputs": []
    },
    {
      "cell_type": "code",
      "metadata": {
        "colab": {
          "base_uri": "https://localhost:8080/"
        },
        "id": "VF2-lroqCL1m",
        "outputId": "735cd529-cc57-41b5-9b10-dc4f0e3f70af"
      },
      "source": [
        "train_df['Response'].value_counts(normalize=True)"
      ],
      "execution_count": 87,
      "outputs": [
        {
          "output_type": "execute_result",
          "data": {
            "text/plain": [
              "0    0.760053\n",
              "1    0.239947\n",
              "Name: Response, dtype: float64"
            ]
          },
          "metadata": {
            "tags": []
          },
          "execution_count": 87
        }
      ]
    },
    {
      "cell_type": "code",
      "metadata": {
        "id": "MrMmEJyHCGMf"
      },
      "source": [
        "sample_df.to_csv('my_submission.csv', index=False)"
      ],
      "execution_count": 90,
      "outputs": []
    }
  ]
}